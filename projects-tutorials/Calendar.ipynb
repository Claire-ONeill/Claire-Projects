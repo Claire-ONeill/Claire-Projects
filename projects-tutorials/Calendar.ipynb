{
 "cells": [
  {
   "cell_type": "code",
   "execution_count": 14,
   "id": "2bbb941a",
   "metadata": {},
   "outputs": [],
   "source": [
    "# steps followed from https://www.analyticsvidhya.com/blog/2021/07/3-interesting-python-projects-with-code-for-beginners/\n",
    "# this project is to increase familarity with tkinter since I had issues using it in past projects\n",
    "import calendar\n",
    "from tkinter import *\n",
    "\n",
    "def show_calender(): \n",
    "    gui=Tk()\n",
    "    gui.config(background=\"grey\")\n",
    "    gui.title(\"Calender for the year\")\n",
    "    gui.geometry(\"550x600\")\n",
    "    year=int(year_field.get())\n",
    "    gui_content=calendar.calendar(year)\n",
    "    calYear=Label(gui,text=gui_content,font=\"Consolas 10 bold\")\n",
    "    calYear.grid(row=5,column=1,padx=20)\n",
    "    gui.mainloop()\n",
    "    \n",
    "if __name__=='__main__': \n",
    "    new=Tk()\n",
    "    new.config(background='grey')\n",
    "    new.title(\"Calendar\")\n",
    "    new.geometry(\"250x140\")\n",
    "    cal=Label(new,text=\"Calendar\",bg='grey',font=(\"times\",28,\"bold\"))\n",
    "    year=Label(new,text=\"Enter year\",bg='dark grey')\n",
    "    #text box for user input \n",
    "    year_field=Entry(new)\n",
    "    button=Button(new,text='Show Calendar', fg='Black',bg='Blue',command=show_calender)\n",
    "    #adjusting the widgets \n",
    "    cal.grid(row=1,column=1)\n",
    "    year.grid(row=2,column=1)\n",
    "    year_field.grid(row=3,column=1)\n",
    "    button.grid(row=4,column=1)\n",
    "    new.mainloop()"
   ]
  }
 ],
 "metadata": {
  "kernelspec": {
   "display_name": "Python 3",
   "language": "python",
   "name": "python3"
  },
  "language_info": {
   "codemirror_mode": {
    "name": "ipython",
    "version": 3
   },
   "file_extension": ".py",
   "mimetype": "text/x-python",
   "name": "python",
   "nbconvert_exporter": "python",
   "pygments_lexer": "ipython3",
   "version": "3.8.8"
  }
 },
 "nbformat": 4,
 "nbformat_minor": 5
}
