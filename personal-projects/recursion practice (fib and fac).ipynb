{
 "cells": [
  {
   "cell_type": "code",
   "execution_count": 1,
   "id": "9ea79c72",
   "metadata": {},
   "outputs": [],
   "source": [
    "#work with recursion, creating definitions that would calculate the fibonacchi sequence and factorials "
   ]
  },
  {
   "cell_type": "code",
   "execution_count": 1,
   "id": "792b005e",
   "metadata": {},
   "outputs": [],
   "source": [
    "def fac(x): \n",
    "    if x ==1 or x==0: #practice with simple recursion before trying something more complex \n",
    "        return 1     \n",
    "    else: \n",
    "        #using recursion to return the factorials \n",
    "        return(x*fac(x-1))"
   ]
  },
  {
   "cell_type": "code",
   "execution_count": 2,
   "id": "9f13f313",
   "metadata": {},
   "outputs": [],
   "source": [
    "#testing factorial definition \n",
    "assert fac(5)==120\n",
    "assert fac(8)==40320\n",
    "assert fac(1)==1"
   ]
  },
  {
   "cell_type": "code",
   "execution_count": 3,
   "id": "fbdcf5df",
   "metadata": {},
   "outputs": [],
   "source": [
    "def fib(n):\n",
    "    \n",
    "#fib sequence example: 0,1,1,3,5,8,13,21,34,55,89,144\n",
    "    #1-12th term \n",
    "    if n<=1: \n",
    "        #definition, if n<=1 it should return n else it should return Fn-1 +Fn-2\n",
    "        #algorithm from fib sequence definition Fn=Fn-1+Fn-2\n",
    "        return n \n",
    "    else: \n",
    "        #algorithm using recursion \n",
    "        return fib(n-1)+fib(n-2)    "
   ]
  },
  {
   "cell_type": "code",
   "execution_count": 4,
   "id": "c84e8443",
   "metadata": {},
   "outputs": [],
   "source": [
    "#assertion states to ensure the definition worls \n",
    "assert fib(0)==0\n",
    "assert fib(1)==1\n",
    "assert fib(10)==55\n",
    "assert fib(12)==144"
   ]
  },
  {
   "cell_type": "code",
   "execution_count": 1,
   "id": "7786a617",
   "metadata": {},
   "outputs": [],
   "source": [
    "from turtle import *\n",
    "\n",
    "def fib(n):\n",
    "    \n",
    "#fib sequence example: 0,1,1,3,5,8,13,21,34,55,89,144\n",
    "    #1-12th term \n",
    "    if n<=1: \n",
    "        #definition, if n<=1 it should return n else it should return Fn-1 +Fn-2\n",
    "        return n \n",
    "    else: \n",
    "        #algorithm using recursion \n",
    "        return fib(n-1)+fib(n-2)  \n",
    "\n",
    "### insert more cool functions here ###\n",
    "\n",
    "def draw_square(turtle, x_pos, y_pos, side_len,color):\n",
    "    turtle.speed(5)\n",
    "    turtle.penup()\n",
    "    turtle.goto(x_pos,y_pos)\n",
    "    turtle.pendown()\n",
    "    turtle.color(color)\n",
    "    for i in range(4): \n",
    "        turtle.forward(side_len)\n",
    "        turtle.left(90) \n",
    "\n",
    "def draw_pattern(turtle):\n",
    "    #list of colors to alternate pen color through using for loop \n",
    "    colors=['red','blue','green','purple','pink','black']\n",
    "    n=5\n",
    "    #starts n at index 5 so it is more visible, square 1x1 is very small (visual) \n",
    "    nums=11\n",
    "    #runs 11 times, anything more than 11 will exceed window size \n",
    "    idx=0\n",
    "    #begins idx at 0 to iterate through list of colors \n",
    "    for i in range(nums):\n",
    "        draw_square(turtle,-350,-320,fib(n),colors[idx])\n",
    "        n+=1\n",
    "        #increments n to call definition on multiple numbers \n",
    "        if idx<=5: \n",
    "            idx+=1\n",
    "            #allows you to iterate through the 6 colors without exceeding list length\n",
    "        if idx>5: \n",
    "            #once you reach the end of the list idx returns to 1\n",
    "            idx=0\n",
    "            idx+=1\n",
    "            #increments to continue moving through list of colors\n",
    "\n",
    "def main():\n",
    "    space=Screen()\n",
    "    t=Turtle()\n",
    "    draw_pattern(t)\n",
    "    exitonclick()\n",
    "\n",
    "    pass\n",
    "\n",
    "\n",
    "# Only run the main function if this file is executed (not imported)\n",
    "if __name__ == '__main__':\n",
    "    main()"
   ]
  },
  {
   "cell_type": "code",
   "execution_count": 1,
   "id": "82c126ed",
   "metadata": {},
   "outputs": [],
   "source": [
    "#stamp based fibonacci drawing,code referenced from stack overflow (user cdlane)\n",
    "# this part is for practice, the code was retyped from stack overflow with some edits since I was practicing with it \n",
    "from turtle import Screen, Turtle\n",
    "scale=5\n",
    "cursor_size=20\n",
    "\n",
    "square=Turtle('square',visible=False) #cannot see turtle as it draws \n",
    "square.fillcolor('white') #shapes white \n",
    "square.speed('fastest')\n",
    "square.right(90)\n",
    "square.penup() # did not see the pen while it moved \n",
    "\n",
    "previous_scaled,previous,current=0,0,1\n",
    "\n",
    "for _ in range(10): \n",
    "    current_scaled=current*scale \n",
    "    square.forward(current_scaled/2+previous_scaled/2)\n",
    "    square.shapesize(current_scaled/cursor_size)\n",
    "    square.left(90)\n",
    "    square.forward(current_scaled/2-previous_scaled/2)\n",
    "    square.stamp()\n",
    "    previous_scaled,previous,current=current_scaled,current,current+previous\n",
    "\n",
    "screen=Screen()\n",
    "screen.exitonclick()\n"
   ]
  }
 ],
 "metadata": {
  "kernelspec": {
   "display_name": "Python 3",
   "language": "python",
   "name": "python3"
  },
  "language_info": {
   "codemirror_mode": {
    "name": "ipython",
    "version": 3
   },
   "file_extension": ".py",
   "mimetype": "text/x-python",
   "name": "python",
   "nbconvert_exporter": "python",
   "pygments_lexer": "ipython3",
   "version": "3.8.8"
  }
 },
 "nbformat": 4,
 "nbformat_minor": 5
}
